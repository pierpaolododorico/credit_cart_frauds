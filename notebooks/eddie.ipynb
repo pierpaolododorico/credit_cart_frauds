{
 "metadata": {
  "language_info": {
   "codemirror_mode": {
    "name": "ipython",
    "version": 3
   },
   "file_extension": ".py",
   "mimetype": "text/x-python",
   "name": "python",
   "nbconvert_exporter": "python",
   "pygments_lexer": "ipython3",
   "version": "3.8.3-final"
  },
  "orig_nbformat": 2,
  "kernelspec": {
   "name": "python3",
   "display_name": "Python 3",
   "language": "python"
  }
 },
 "nbformat": 4,
 "nbformat_minor": 2,
 "cells": [
  {
   "cell_type": "code",
   "execution_count": 2,
   "metadata": {},
   "outputs": [],
   "source": [
    "#import libraries\n",
    "\n",
    "import numpy as np\n",
    "import pandas as pd"
   ]
  },
  {
   "cell_type": "code",
   "execution_count": 4,
   "metadata": {},
   "outputs": [
    {
     "output_type": "execute_result",
     "data": {
      "text/plain": [
       "   Time        V1        V2        V3        V4        V5        V6        V7  \\\n",
       "0   0.0 -1.359807 -0.072781  2.536347  1.378155 -0.338321  0.462388  0.239599   \n",
       "1   0.0  1.191857  0.266151  0.166480  0.448154  0.060018 -0.082361 -0.078803   \n",
       "2   1.0 -1.358354 -1.340163  1.773209  0.379780 -0.503198  1.800499  0.791461   \n",
       "3   1.0 -0.966272 -0.185226  1.792993 -0.863291 -0.010309  1.247203  0.237609   \n",
       "4   2.0 -1.158233  0.877737  1.548718  0.403034 -0.407193  0.095921  0.592941   \n",
       "\n",
       "         V8        V9  ...       V21       V22       V23       V24       V25  \\\n",
       "0  0.098698  0.363787  ... -0.018307  0.277838 -0.110474  0.066928  0.128539   \n",
       "1  0.085102 -0.255425  ... -0.225775 -0.638672  0.101288 -0.339846  0.167170   \n",
       "2  0.247676 -1.514654  ...  0.247998  0.771679  0.909412 -0.689281 -0.327642   \n",
       "3  0.377436 -1.387024  ... -0.108300  0.005274 -0.190321 -1.175575  0.647376   \n",
       "4 -0.270533  0.817739  ... -0.009431  0.798278 -0.137458  0.141267 -0.206010   \n",
       "\n",
       "        V26       V27       V28  Amount  Class  \n",
       "0 -0.189115  0.133558 -0.021053  149.62      0  \n",
       "1  0.125895 -0.008983  0.014724    2.69      0  \n",
       "2 -0.139097 -0.055353 -0.059752  378.66      0  \n",
       "3 -0.221929  0.062723  0.061458  123.50      0  \n",
       "4  0.502292  0.219422  0.215153   69.99      0  \n",
       "\n",
       "[5 rows x 31 columns]"
      ],
      "text/html": "<div>\n<style scoped>\n    .dataframe tbody tr th:only-of-type {\n        vertical-align: middle;\n    }\n\n    .dataframe tbody tr th {\n        vertical-align: top;\n    }\n\n    .dataframe thead th {\n        text-align: right;\n    }\n</style>\n<table border=\"1\" class=\"dataframe\">\n  <thead>\n    <tr style=\"text-align: right;\">\n      <th></th>\n      <th>Time</th>\n      <th>V1</th>\n      <th>V2</th>\n      <th>V3</th>\n      <th>V4</th>\n      <th>V5</th>\n      <th>V6</th>\n      <th>V7</th>\n      <th>V8</th>\n      <th>V9</th>\n      <th>...</th>\n      <th>V21</th>\n      <th>V22</th>\n      <th>V23</th>\n      <th>V24</th>\n      <th>V25</th>\n      <th>V26</th>\n      <th>V27</th>\n      <th>V28</th>\n      <th>Amount</th>\n      <th>Class</th>\n    </tr>\n  </thead>\n  <tbody>\n    <tr>\n      <th>0</th>\n      <td>0.0</td>\n      <td>-1.359807</td>\n      <td>-0.072781</td>\n      <td>2.536347</td>\n      <td>1.378155</td>\n      <td>-0.338321</td>\n      <td>0.462388</td>\n      <td>0.239599</td>\n      <td>0.098698</td>\n      <td>0.363787</td>\n      <td>...</td>\n      <td>-0.018307</td>\n      <td>0.277838</td>\n      <td>-0.110474</td>\n      <td>0.066928</td>\n      <td>0.128539</td>\n      <td>-0.189115</td>\n      <td>0.133558</td>\n      <td>-0.021053</td>\n      <td>149.62</td>\n      <td>0</td>\n    </tr>\n    <tr>\n      <th>1</th>\n      <td>0.0</td>\n      <td>1.191857</td>\n      <td>0.266151</td>\n      <td>0.166480</td>\n      <td>0.448154</td>\n      <td>0.060018</td>\n      <td>-0.082361</td>\n      <td>-0.078803</td>\n      <td>0.085102</td>\n      <td>-0.255425</td>\n      <td>...</td>\n      <td>-0.225775</td>\n      <td>-0.638672</td>\n      <td>0.101288</td>\n      <td>-0.339846</td>\n      <td>0.167170</td>\n      <td>0.125895</td>\n      <td>-0.008983</td>\n      <td>0.014724</td>\n      <td>2.69</td>\n      <td>0</td>\n    </tr>\n    <tr>\n      <th>2</th>\n      <td>1.0</td>\n      <td>-1.358354</td>\n      <td>-1.340163</td>\n      <td>1.773209</td>\n      <td>0.379780</td>\n      <td>-0.503198</td>\n      <td>1.800499</td>\n      <td>0.791461</td>\n      <td>0.247676</td>\n      <td>-1.514654</td>\n      <td>...</td>\n      <td>0.247998</td>\n      <td>0.771679</td>\n      <td>0.909412</td>\n      <td>-0.689281</td>\n      <td>-0.327642</td>\n      <td>-0.139097</td>\n      <td>-0.055353</td>\n      <td>-0.059752</td>\n      <td>378.66</td>\n      <td>0</td>\n    </tr>\n    <tr>\n      <th>3</th>\n      <td>1.0</td>\n      <td>-0.966272</td>\n      <td>-0.185226</td>\n      <td>1.792993</td>\n      <td>-0.863291</td>\n      <td>-0.010309</td>\n      <td>1.247203</td>\n      <td>0.237609</td>\n      <td>0.377436</td>\n      <td>-1.387024</td>\n      <td>...</td>\n      <td>-0.108300</td>\n      <td>0.005274</td>\n      <td>-0.190321</td>\n      <td>-1.175575</td>\n      <td>0.647376</td>\n      <td>-0.221929</td>\n      <td>0.062723</td>\n      <td>0.061458</td>\n      <td>123.50</td>\n      <td>0</td>\n    </tr>\n    <tr>\n      <th>4</th>\n      <td>2.0</td>\n      <td>-1.158233</td>\n      <td>0.877737</td>\n      <td>1.548718</td>\n      <td>0.403034</td>\n      <td>-0.407193</td>\n      <td>0.095921</td>\n      <td>0.592941</td>\n      <td>-0.270533</td>\n      <td>0.817739</td>\n      <td>...</td>\n      <td>-0.009431</td>\n      <td>0.798278</td>\n      <td>-0.137458</td>\n      <td>0.141267</td>\n      <td>-0.206010</td>\n      <td>0.502292</td>\n      <td>0.219422</td>\n      <td>0.215153</td>\n      <td>69.99</td>\n      <td>0</td>\n    </tr>\n  </tbody>\n</table>\n<p>5 rows × 31 columns</p>\n</div>"
     },
     "metadata": {},
     "execution_count": 4
    }
   ],
   "source": [
    "#retrive DATA\n",
    "\n",
    "df = pd.read_csv('../data/creditcard.csv')\n",
    "df.head()"
   ]
  },
  {
   "cell_type": "code",
   "execution_count": 8,
   "metadata": {},
   "outputs": [],
   "source": [
    "#define a neural network from scratch\n",
    "class ThreeLayerNet():\n",
    "    def __init__(self, input_size, first_layer_size, second_layer_size, output_size, std=1e-4):\n",
    "        self.params={}\n",
    "        self.params['W1'] = std * np.random.randn(input_size, first_layer_size)\n",
    "        self.params['b1'] = np.zeros(first_layer_size)\n",
    "        self.params['W2'] = std * np.random.randn(first_layer_size, second_layer_size)\n",
    "        self.params['b2'] = np.zeros(second_layer_size)\n",
    "        self.params['W3'] = std * np.random.randn(second_layer_size, output_size)\n",
    "        self.params['b3'] = np.zeros(output_size)"
   ]
  },
  {
   "cell_type": "code",
   "execution_count": 3,
   "metadata": {},
   "outputs": [
    {
     "output_type": "error",
     "ename": "ModuleNotFoundError",
     "evalue": "No module named 'keras'",
     "traceback": [
      "\u001b[1;31m---------------------------------------------------------------------------\u001b[0m",
      "\u001b[1;31mModuleNotFoundError\u001b[0m                       Traceback (most recent call last)",
      "\u001b[1;32m<ipython-input-3-b896fe08a675>\u001b[0m in \u001b[0;36m<module>\u001b[1;34m\u001b[0m\n\u001b[1;32m----> 1\u001b[1;33m \u001b[1;32mfrom\u001b[0m \u001b[0mkeras\u001b[0m\u001b[1;33m.\u001b[0m\u001b[0mmodels\u001b[0m \u001b[1;32mimport\u001b[0m \u001b[0mSequential\u001b[0m\u001b[1;33m\u001b[0m\u001b[1;33m\u001b[0m\u001b[0m\n\u001b[0m\u001b[0;32m      2\u001b[0m \u001b[1;32mfrom\u001b[0m \u001b[0mkeras\u001b[0m\u001b[1;33m.\u001b[0m\u001b[0mlayers\u001b[0m \u001b[1;32mimport\u001b[0m \u001b[0mDense\u001b[0m\u001b[1;33m\u001b[0m\u001b[1;33m\u001b[0m\u001b[0m\n\u001b[0;32m      3\u001b[0m \u001b[1;33m\u001b[0m\u001b[0m\n\u001b[0;32m      4\u001b[0m \u001b[0mmodel\u001b[0m \u001b[1;33m=\u001b[0m \u001b[0mSequential\u001b[0m\u001b[1;33m(\u001b[0m\u001b[1;33m)\u001b[0m\u001b[1;33m\u001b[0m\u001b[1;33m\u001b[0m\u001b[0m\n\u001b[0;32m      5\u001b[0m \u001b[0mmodel\u001b[0m\u001b[1;33m.\u001b[0m\u001b[0madd\u001b[0m\u001b[1;33m(\u001b[0m\u001b[0mDense\u001b[0m\u001b[1;33m(\u001b[0m\u001b[1;36m12\u001b[0m\u001b[1;33m,\u001b[0m \u001b[0minput_dim\u001b[0m\u001b[1;33m=\u001b[0m\u001b[1;36m8\u001b[0m\u001b[1;33m,\u001b[0m \u001b[0mactivation\u001b[0m\u001b[1;33m=\u001b[0m\u001b[1;34m'relu'\u001b[0m\u001b[1;33m)\u001b[0m\u001b[1;33m)\u001b[0m\u001b[1;33m\u001b[0m\u001b[1;33m\u001b[0m\u001b[0m\n",
      "\u001b[1;31mModuleNotFoundError\u001b[0m: No module named 'keras'"
     ]
    }
   ],
   "source": [
    "from keras.models import Sequential\n",
    "from keras.layers import Dense\n",
    "\n",
    "model = Sequential()\n",
    "model.add(Dense(12, input_dim=8, activation='relu'))\n",
    "model.add(Dense(8, activation='relu'))\n",
    "model.add(Dense(1, activation='sigmoid'))"
   ]
  },
  {
   "cell_type": "code",
   "execution_count": 13,
   "metadata": {},
   "outputs": [],
   "source": [
    "#split data into train & test sets\n",
    "\n",
    "from sklearn.model_selection import train_test_split\n",
    "\n",
    "X = df.iloc[:,:-1]\n",
    "y = df[\"Class\"]\n",
    "\n",
    "X_train, X_test, y_train, y_test = train_test_split(X, y, test_size = 0.3, random_state = 0)"
   ]
  },
  {
   "cell_type": "code",
   "execution_count": 17,
   "metadata": {},
   "outputs": [
    {
     "output_type": "execute_result",
     "data": {
      "text/plain": [
       "            Time         V1         V2         V3        V4         V5  \\\n",
       "206619  136284.0  -1.658673  -1.277519   0.316020 -0.127315   2.585857   \n",
       "43624    41582.0  -1.048005   1.300219  -0.180401  2.589843  -1.164794   \n",
       "53898    46203.0  -0.405044   0.994991   1.376125  0.101588  -0.064969   \n",
       "202498  134356.0   1.683271  -0.755072  -0.475439  0.558431  -0.815955   \n",
       "15166    26523.0 -18.474868  11.586381 -21.402917  6.038515 -14.451158   \n",
       "\n",
       "              V6         V7         V8        V9  ...       V21       V22  \\\n",
       "206619  0.274675   0.046708   0.467900  0.015506  ...  0.098548 -0.227499   \n",
       "43624   0.031823  -2.175778   0.699072 -1.140208  ...  0.549014  0.624321   \n",
       "53898  -0.737001   0.538770   0.125441 -0.206100  ... -0.232140 -0.630561   \n",
       "202498 -0.704603  -0.227675  -0.215903  1.077003  ...  0.325068  0.805640   \n",
       "15166  -4.146524 -14.856124  12.431140 -4.053353  ...  1.741136 -1.251138   \n",
       "\n",
       "             V23       V24       V25       V26       V27       V28  Amount  \\\n",
       "206619  0.544152 -0.491443 -0.253296 -0.411869  0.086271  0.183122  118.37   \n",
       "43624  -0.136663  0.131738  0.030921 -0.176701  0.504898  0.069882   39.45   \n",
       "53898   0.067358  0.310422 -0.325618  0.086181  0.253985  0.095001    1.29   \n",
       "202498 -0.011653  0.098298 -0.164962 -0.267503  0.010848 -0.005792  167.96   \n",
       "15166  -0.396219  0.095706  1.322751 -0.217955  1.628793  0.482248   99.99   \n",
       "\n",
       "        Class  \n",
       "206619      0  \n",
       "43624       1  \n",
       "53898       0  \n",
       "202498      0  \n",
       "15166       1  \n",
       "\n",
       "[5 rows x 31 columns]"
      ],
      "text/html": "<div>\n<style scoped>\n    .dataframe tbody tr th:only-of-type {\n        vertical-align: middle;\n    }\n\n    .dataframe tbody tr th {\n        vertical-align: top;\n    }\n\n    .dataframe thead th {\n        text-align: right;\n    }\n</style>\n<table border=\"1\" class=\"dataframe\">\n  <thead>\n    <tr style=\"text-align: right;\">\n      <th></th>\n      <th>Time</th>\n      <th>V1</th>\n      <th>V2</th>\n      <th>V3</th>\n      <th>V4</th>\n      <th>V5</th>\n      <th>V6</th>\n      <th>V7</th>\n      <th>V8</th>\n      <th>V9</th>\n      <th>...</th>\n      <th>V21</th>\n      <th>V22</th>\n      <th>V23</th>\n      <th>V24</th>\n      <th>V25</th>\n      <th>V26</th>\n      <th>V27</th>\n      <th>V28</th>\n      <th>Amount</th>\n      <th>Class</th>\n    </tr>\n  </thead>\n  <tbody>\n    <tr>\n      <th>206619</th>\n      <td>136284.0</td>\n      <td>-1.658673</td>\n      <td>-1.277519</td>\n      <td>0.316020</td>\n      <td>-0.127315</td>\n      <td>2.585857</td>\n      <td>0.274675</td>\n      <td>0.046708</td>\n      <td>0.467900</td>\n      <td>0.015506</td>\n      <td>...</td>\n      <td>0.098548</td>\n      <td>-0.227499</td>\n      <td>0.544152</td>\n      <td>-0.491443</td>\n      <td>-0.253296</td>\n      <td>-0.411869</td>\n      <td>0.086271</td>\n      <td>0.183122</td>\n      <td>118.37</td>\n      <td>0</td>\n    </tr>\n    <tr>\n      <th>43624</th>\n      <td>41582.0</td>\n      <td>-1.048005</td>\n      <td>1.300219</td>\n      <td>-0.180401</td>\n      <td>2.589843</td>\n      <td>-1.164794</td>\n      <td>0.031823</td>\n      <td>-2.175778</td>\n      <td>0.699072</td>\n      <td>-1.140208</td>\n      <td>...</td>\n      <td>0.549014</td>\n      <td>0.624321</td>\n      <td>-0.136663</td>\n      <td>0.131738</td>\n      <td>0.030921</td>\n      <td>-0.176701</td>\n      <td>0.504898</td>\n      <td>0.069882</td>\n      <td>39.45</td>\n      <td>1</td>\n    </tr>\n    <tr>\n      <th>53898</th>\n      <td>46203.0</td>\n      <td>-0.405044</td>\n      <td>0.994991</td>\n      <td>1.376125</td>\n      <td>0.101588</td>\n      <td>-0.064969</td>\n      <td>-0.737001</td>\n      <td>0.538770</td>\n      <td>0.125441</td>\n      <td>-0.206100</td>\n      <td>...</td>\n      <td>-0.232140</td>\n      <td>-0.630561</td>\n      <td>0.067358</td>\n      <td>0.310422</td>\n      <td>-0.325618</td>\n      <td>0.086181</td>\n      <td>0.253985</td>\n      <td>0.095001</td>\n      <td>1.29</td>\n      <td>0</td>\n    </tr>\n    <tr>\n      <th>202498</th>\n      <td>134356.0</td>\n      <td>1.683271</td>\n      <td>-0.755072</td>\n      <td>-0.475439</td>\n      <td>0.558431</td>\n      <td>-0.815955</td>\n      <td>-0.704603</td>\n      <td>-0.227675</td>\n      <td>-0.215903</td>\n      <td>1.077003</td>\n      <td>...</td>\n      <td>0.325068</td>\n      <td>0.805640</td>\n      <td>-0.011653</td>\n      <td>0.098298</td>\n      <td>-0.164962</td>\n      <td>-0.267503</td>\n      <td>0.010848</td>\n      <td>-0.005792</td>\n      <td>167.96</td>\n      <td>0</td>\n    </tr>\n    <tr>\n      <th>15166</th>\n      <td>26523.0</td>\n      <td>-18.474868</td>\n      <td>11.586381</td>\n      <td>-21.402917</td>\n      <td>6.038515</td>\n      <td>-14.451158</td>\n      <td>-4.146524</td>\n      <td>-14.856124</td>\n      <td>12.431140</td>\n      <td>-4.053353</td>\n      <td>...</td>\n      <td>1.741136</td>\n      <td>-1.251138</td>\n      <td>-0.396219</td>\n      <td>0.095706</td>\n      <td>1.322751</td>\n      <td>-0.217955</td>\n      <td>1.628793</td>\n      <td>0.482248</td>\n      <td>99.99</td>\n      <td>1</td>\n    </tr>\n  </tbody>\n</table>\n<p>5 rows × 31 columns</p>\n</div>"
     },
     "metadata": {},
     "execution_count": 17
    }
   ],
   "source": [
    "#balance the data\n",
    "# Since our classes are highly skewed we should make them equivalent in order to have a normal distribution of the classes.\n",
    "\n",
    "TRAIN = pd.concat([X_train, y_train], axis=1)\n",
    "\n",
    "# Lets shuffle the data before creating the subsamples\n",
    "\n",
    "TRAIN = TRAIN.sample(frac=1)\n",
    "\n",
    "# amount of fraud classes 492 rows.\n",
    "fraud_df = TRAIN.loc[TRAIN['Class'] == 1]\n",
    "non_fraud_df = TRAIN.loc[TRAIN['Class'] == 0][:492]\n",
    "\n",
    "normal_distributed_df = pd.concat([fraud_df, non_fraud_df])\n",
    "\n",
    "# Shuffle dataframe rows\n",
    "new_df = normal_distributed_df.sample(frac=1, random_state=42)\n",
    "\n",
    "new_df.head()"
   ]
  },
  {
   "cell_type": "code",
   "execution_count": 12,
   "metadata": {},
   "outputs": [],
   "source": [
    "#train the neural network"
   ]
  },
  {
   "cell_type": "code",
   "execution_count": 13,
   "metadata": {},
   "outputs": [],
   "source": [
    "#evaluate the performance"
   ]
  }
 ]
}